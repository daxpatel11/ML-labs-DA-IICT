{
 "cells": [
  {
   "cell_type": "code",
   "execution_count": 0,
   "metadata": {
    "colab": {},
    "colab_type": "code",
    "id": "nrizIVrgpR_t",
    "outputId": "9ddd0f8f-40fe-45ea-ebd8-12f68d2008b9"
   },
   "outputs": [
    {
     "name": "stdout",
     "output_type": "stream",
     "text": [
      "3.213876088517982e-06\n",
      "67\n"
     ]
    }
   ],
   "source": [
    "# 1(a)\n",
    "x=10\n",
    "xn=x+1\n",
    "count=0\n",
    "a=0.1\n",
    "e=1e-6\n",
    "\n",
    "while(abs(xn-x)>=e):\n",
    "    xn=x;\n",
    "    x=x-(2*x)*a\n",
    "    count=count+1\n",
    "print(x)\n",
    "print(count)"
   ]
  },
  {
   "cell_type": "code",
   "execution_count": 0,
   "metadata": {
    "colab": {},
    "colab_type": "code",
    "id": "FYoO3RGEpR_7",
    "outputId": "738fe9c4-4004-477a-a2cd-63754d213a52",
    "scrolled": true
   },
   "outputs": [
    {
     "name": "stdout",
     "output_type": "stream",
     "text": [
      "4.819498724305525e-05\n",
      "4.819498724305525e-05\n",
      "606\n"
     ]
    }
   ],
   "source": [
    "# 1(b)\n",
    "x=10\n",
    "xn=x+1\n",
    "y=10\n",
    "yn=y+1\n",
    "count=0\n",
    "a=0.01\n",
    "e=1e-6\n",
    "\n",
    "while(abs(xn-x)>=e and abs(yn-y)>=e):\n",
    "    xn=x\n",
    "    yn=y\n",
    "    x=x-(2*x)*a\n",
    "    y=y-(2*y)*a\n",
    "    count=count+1\n",
    "print(x)\n",
    "print(y)\n",
    "print(count)"
   ]
  },
  {
   "cell_type": "code",
   "execution_count": 0,
   "metadata": {
    "colab": {},
    "colab_type": "code",
    "id": "0HRl2p03pSAE",
    "outputId": "f27de0b1-d520-4d35-9f4c-dd181b1b5d44"
   },
   "outputs": [
    {
     "name": "stdout",
     "output_type": "stream",
     "text": [
      "1.0000036156105996\n",
      "66\n"
     ]
    }
   ],
   "source": [
    "# 1(c)\n",
    "x=10\n",
    "xn=x+1\n",
    "count=0\n",
    "a=0.1\n",
    "e=1e-6\n",
    "\n",
    "while(abs(xn-x)>=e):\n",
    "    xn=x\n",
    "    x=x-(2*(x-1))*a\n",
    "    count=count+1\n",
    "print(x)\n",
    "print(count)"
   ]
  },
  {
   "cell_type": "code",
   "execution_count": 0,
   "metadata": {
    "colab": {},
    "colab_type": "code",
    "id": "0mOfV7vYpSAP",
    "outputId": "10cbac81-1c5a-46ad-cf7d-b57d1aa7dd9b"
   },
   "outputs": [
    {
     "name": "stdout",
     "output_type": "stream",
     "text": [
      "1.0000011937991664\n",
      "1.0000011937991664\n"
     ]
    }
   ],
   "source": [
    "# 1(d)\n",
    "x=10\n",
    "xn=x+1\n",
    "y=10\n",
    "yn=y+1\n",
    "count=0\n",
    "a=0.1\n",
    "e=1e-6\n",
    "\n",
    "while(abs(xn-x)>=e and abs(yn-y)>=e):\n",
    "    xn=x\n",
    "    yn=y\n",
    "    x=x-(4*(x-1))*a\n",
    "    y=y-(4*(y-1))*a\n",
    "    count=count+1\n",
    "print(x)\n",
    "print(y)"
   ]
  },
  {
   "cell_type": "code",
   "execution_count": 0,
   "metadata": {
    "colab": {},
    "colab_type": "code",
    "id": "C7j-GTEmpSAV",
    "outputId": "c7b4af48-ab32-4bc9-c9af-7a1687d930b1"
   },
   "outputs": [
    {
     "name": "stdout",
     "output_type": "stream",
     "text": [
      "23.71808442570847 -6.86699501571758\n"
     ]
    }
   ],
   "source": [
    "# 1(e)\n",
    "import numpy as np\n",
    "import pandas as pd\n",
    "import random\n",
    "import matplotlib.pyplot as pl\n",
    "from mpl_toolkits import mplot3d\n",
    "data=pd.read_csv('data.csv')\n",
    "\n",
    "x=np.array(data['x'])\n",
    "y=np.array(data['y'])\n",
    "x=(x-np.mean(x))/np.std(x)\n",
    "\n",
    "theta1=5\n",
    "theta1n=theta1+1\n",
    "theta2=5\n",
    "theta2n=theta2+1\n",
    "a=0.01\n",
    "count=0\n",
    "e=1e-6\n",
    "\n",
    "while(abs(theta1n-theta1)>=e and abs(theta2n-theta2)>=e):\n",
    "    theta1n=theta1\n",
    "    theta2n=theta2\n",
    "    d1=-2*np.sum(y-(theta1+theta2*x))\n",
    "    d2=-2*np.sum(np.multiply(y-(theta1+theta2*x),x))\n",
    "    theta1=theta1-d1*a\n",
    "    theta2=theta2-d2*a\n",
    "    count=count+1\n",
    "print(theta1,theta2)"
   ]
  },
  {
   "cell_type": "code",
   "execution_count": 0,
   "metadata": {
    "colab": {},
    "colab_type": "code",
    "id": "TSUqiek9pSAZ",
    "outputId": "91ec5ee5-3e9a-4ce9-ee57-18785897b8c9"
   },
   "outputs": [
    {
     "name": "stdout",
     "output_type": "stream",
     "text": [
      "23.560348903302685 -6.9470988150379975\n"
     ]
    }
   ],
   "source": [
    "# 2\n",
    "import numpy as np\n",
    "import pandas as pd\n",
    "import random\n",
    "import matplotlib.pyplot as pl\n",
    "from mpl_toolkits import mplot3d\n",
    "data=pd.read_csv('data.csv')\n",
    "\n",
    "x=np.array(data['x'])\n",
    "y=np.array(data['y'])\n",
    "x=(x-np.mean(x))/np.std(x)\n",
    "\n",
    "theta1=10\n",
    "theta1n=theta1+1\n",
    "theta2=10\n",
    "theta2n=theta2+1\n",
    "a=0.01\n",
    "count=0\n",
    "e=1e-6\n",
    "\n",
    "while(abs(theta1n-theta1)>=e and abs(theta2n-theta2)>=e):\n",
    "    theta1n=theta1\n",
    "    theta2n=theta2\n",
    "    i=random.randint(0,len(x)-1)\n",
    "    d1=-2*np.sum(y[i]-(theta1+theta2*x[i]))\n",
    "    d2=-2*np.sum(np.multiply(y[i]-(theta1+theta2*x[i]),x[i]))\n",
    "    \n",
    "    theta1=theta1-d1*a\n",
    "    theta2=theta2-d2*a\n",
    "    count=count+1\n",
    "print(theta1,theta2)"
   ]
  },
  {
   "cell_type": "code",
   "execution_count": 0,
   "metadata": {
    "colab": {},
    "colab_type": "code",
    "id": "4FZldGrSpSAd",
    "outputId": "a26ce6db-5b3f-4644-acf8-daa663000bbb"
   },
   "outputs": [
    {
     "name": "stdout",
     "output_type": "stream",
     "text": [
      "0.0\n",
      "2\n"
     ]
    }
   ],
   "source": [
    "# 3(a)\n",
    "x=10\n",
    "xn=x+1\n",
    "count=0\n",
    "a=0.1\n",
    "e=1e-6\n",
    "\n",
    "while(abs(xn-x)>=e):\n",
    "    xn=x;\n",
    "    a=a-(1-2*a)/(-2)\n",
    "    x=x-(2*x)*a\n",
    "    count=count+1\n",
    "print(x)\n",
    "print(count)"
   ]
  },
  {
   "cell_type": "code",
   "execution_count": 0,
   "metadata": {
    "colab": {},
    "colab_type": "code",
    "id": "YqY_OLO6pSAg",
    "outputId": "24793f4c-93ff-4c15-ea07-acb11c16faaa"
   },
   "outputs": [
    {
     "name": "stdout",
     "output_type": "stream",
     "text": [
      "0.0\n",
      "0.0\n",
      "2\n"
     ]
    }
   ],
   "source": [
    "# 3(b)\n",
    "x=10\n",
    "xn=x+1\n",
    "y=10\n",
    "yn=y+1\n",
    "count=0\n",
    "a=0.01\n",
    "e=1e-6\n",
    "\n",
    "while(abs(xn-x)>=e and abs(yn-y)>=e):\n",
    "    xn=x\n",
    "    yn=y\n",
    "    a=a-(1-2*a)/(-2)\n",
    "    x=x-(2*x)*a\n",
    "    y=y-(2*y)*a\n",
    "    count=count+1\n",
    "print(x)\n",
    "print(y)\n",
    "print(count)"
   ]
  },
  {
   "cell_type": "code",
   "execution_count": 0,
   "metadata": {
    "colab": {},
    "colab_type": "code",
    "id": "CaR5eO65pSAj",
    "outputId": "1557e82a-4cee-4a8d-c545-3823696ce104"
   },
   "outputs": [
    {
     "name": "stdout",
     "output_type": "stream",
     "text": [
      "1.0\n",
      "2\n"
     ]
    }
   ],
   "source": [
    "# 3(c)\n",
    "x=10\n",
    "xn=x+1\n",
    "count=0\n",
    "a=0.1\n",
    "e=1e-6\n",
    "\n",
    "while(abs(xn-x)>=e):\n",
    "    xn=x\n",
    "    a=a-(1-2*a)/(-2)\n",
    "    x=x-(2*(x-1))*a\n",
    "    count=count+1\n",
    "print(x)\n",
    "print(count)"
   ]
  },
  {
   "cell_type": "code",
   "execution_count": 0,
   "metadata": {
    "colab": {},
    "colab_type": "code",
    "id": "KqfPggxOpSAl",
    "outputId": "ea39fbd7-0eac-43a6-b4b4-fa3f23df8327"
   },
   "outputs": [
    {
     "name": "stdout",
     "output_type": "stream",
     "text": [
      "1.0\n",
      "1.0\n",
      "2\n"
     ]
    }
   ],
   "source": [
    "# 3(d)\n",
    "x=10\n",
    "xn=x+1\n",
    "y=10\n",
    "yn=y+1\n",
    "count=0\n",
    "a=0.1\n",
    "e=1e-6\n",
    "\n",
    "while(abs(xn-x)>=e and abs(yn-y)>=e):\n",
    "    xn=x\n",
    "    yn=y\n",
    "    a=a+(1-4*a)/(4)\n",
    "    x=x-(4*(x-1))*a\n",
    "    y=y-(4*(y-1))*a\n",
    "    count=count+1\n",
    "print(x)\n",
    "print(y)\n",
    "print(count)"
   ]
  },
  {
   "cell_type": "code",
   "execution_count": 0,
   "metadata": {
    "colab": {},
    "colab_type": "code",
    "id": "0amJEVbcpSAn",
    "outputId": "3fd0c3a4-7b6b-4caf-d42d-3376902731c7"
   },
   "outputs": [
    {
     "name": "stdout",
     "output_type": "stream",
     "text": [
      "23.718085106383004 -6.866995447255401 2\n"
     ]
    }
   ],
   "source": [
    "# 3(e)\n",
    "import numpy as np\n",
    "import pandas as pd\n",
    "import random\n",
    "import matplotlib.pyplot as pl\n",
    "from mpl_toolkits import mplot3d\n",
    "import statistics as st\n",
    "import sympy as sy\n",
    "\n",
    "x=np.array(data['x'])\n",
    "y=np.array(data['y'])\n",
    "x=(x-np.mean(x))/np.std(x)\n",
    "o0=10\n",
    "o1=10\n",
    "\n",
    "t0=sy.Symbol('t0');\n",
    "t1=sy.Symbol('t1');\n",
    "\n",
    "eq=sy.simplify(sum([(y[i]-(t0+t1*x[i]))**2 for i in range(len(x))]))\n",
    "\n",
    "part0=sy.diff(eq,t0)\n",
    "part1=sy.diff(eq,t1)\n",
    "part00=sy.lambdify([t0,t1],part0,'numpy')\n",
    "part11=sy.lambdify([t0,t1],part1,'numpy')\n",
    "\n",
    "a=sy.Symbol('a')\n",
    "eq1=sy.simplify(sum([(y[i]-(t0-a*part0+(t1-a*part1)*x[i]))**2 for i in range(len(x))]))\n",
    "diff1=sy.diff(eq1,a);\n",
    "diff2=sy.diff(diff1,a);\n",
    "diff1=sy.lambdify([a,t0,t1],diff1,'numpy')\n",
    "diff2=sy.lambdify([a,t0,t1],diff2,'numpy')\n",
    "\n",
    "prev0=o0+1\n",
    "prev1=o1+1\n",
    "\n",
    "eps=1e-6\n",
    "alpha=0.1\n",
    "ni=0\n",
    "while(abs(o0-prev0)>=eps or abs(o1-prev1)>=eps ):\n",
    "    prev0=o0\n",
    "    prev1=o1\n",
    "    alpha=alpha-diff1(alpha,prev0,prev1)/diff2(alpha,prev0,prev1)\n",
    "    o0=o0-alpha*part00(prev0,prev1)\n",
    "    o1=o1-alpha*part11(prev0,prev1)\n",
    "    ni=ni+1\n",
    "print(o0,o1,ni)"
   ]
  },
  {
   "cell_type": "code",
   "execution_count": 0,
   "metadata": {
    "colab": {},
    "colab_type": "code",
    "id": "zEkWZVrqpSAq"
   },
   "outputs": [],
   "source": []
  }
 ],
 "metadata": {
  "colab": {
   "name": "201701086_Lab2.ipynb",
   "provenance": []
  },
  "kernelspec": {
   "display_name": "Python 3",
   "language": "python",
   "name": "python3"
  },
  "language_info": {
   "codemirror_mode": {
    "name": "ipython",
    "version": 3
   },
   "file_extension": ".py",
   "mimetype": "text/x-python",
   "name": "python",
   "nbconvert_exporter": "python",
   "pygments_lexer": "ipython3",
   "version": "3.8.1"
  }
 },
 "nbformat": 4,
 "nbformat_minor": 1
}
